{
 "cells": [
  {
   "cell_type": "code",
   "execution_count": 1,
   "metadata": {},
   "outputs": [
    {
     "name": "stderr",
     "output_type": "stream",
     "text": [
      "Using TensorFlow backend.\n"
     ]
    }
   ],
   "source": [
    "from keras import layers\n",
    "from keras.datasets import mnist\n",
    "from keras.models import Sequential, Model, load_model\n",
    "from keras.optimizers import SGD\n",
    "from datetime import datetime\n",
    "import keras.backend.tensorflow_backend as Back\n",
    "import numpy as np\n",
    "import matplotlib.pyplot as plt\n",
    "%matplotlib inline"
   ]
  },
  {
   "cell_type": "code",
   "execution_count": 2,
   "metadata": {},
   "outputs": [],
   "source": [
    "def inception_module(x, o_1=64, r_3=64, o_3=128, r_5=16, o_5=32, pool=32):\n",
    "    \"\"\"\n",
    "    # Arguments \n",
    "    x : 입력이미지\n",
    "    o_1 : 1x1 convolution 연산 출력값의 채널 수 \n",
    "    r_3 : 3x3 convolution 이전에 있는 1x1 convolution의 출력값 채널 수\n",
    "    o_3 : 3x3 convolution 연산 출력값의 채널 수 \n",
    "    r_5 : 5x5 convolution 이전에 있는 1x1 convolution의 출력값 채널 수 \n",
    "    o_5 : 5x5 convolution 연산 출력값의 채널 수 \n",
    "    pool: maxpooling 다음의 1x1 convolution의 출력값 채널 수\n",
    "    \n",
    "    # returns\n",
    "    4 종류의 연산의 결과 값을 채널 방향으로 합친 결과 \n",
    "    \"\"\"\n",
    "    \n",
    "    x_1 = layers.Conv2D(o_1, 1, padding='same', activation='relu')(x)\n",
    "    \n",
    "    x_2 = layers.Conv2D(r_3, 1, padding='same', activation='relu')(x)\n",
    "    x_2 = layers.Conv2D(o_3, 3, padding='same', activation='relu')(x_2)\n",
    "    \n",
    "    x_3 = layers.Conv2D(r_5, 1, padding='same', activation='relu')(x)\n",
    "    x_3 = layers.Conv2D(o_5, 5, padding='same', activation='relu')(x_3)\n",
    "    \n",
    "    x_4 = layers.MaxPooling2D(pool_size=(3, 3), strides=1, padding='same')(x)\n",
    "    x_4 = layers.Conv2D(pool, 1, padding='same', activation='relu')(x_4)\n",
    "    \n",
    "    return layers.concatenate([x_1, x_2, x_3, x_4])"
   ]
  },
  {
   "cell_type": "code",
   "execution_count": 3,
   "metadata": {},
   "outputs": [],
   "source": [
    "img_shape = (56, 56, 1)\n",
    "def googLeNet(img_shape):\n",
    "    with Back.tf.device('/cpu:0'):\n",
    "        input_ = layers.Input(shape=img_shape)\n",
    "        x = layers.Conv2D(64, 3, strides=2, padding='same', activation='relu')(input_)\n",
    "        x = layers.Conv2D(192, 3, strides=1, padding='same', activation='relu')(x)\n",
    "        x = layers.BatchNormalization()(x)\n",
    "        x = layers.MaxPooling2D(pool_size=(3, 3), strides=2, padding='same')(x)\n",
    "        x = inception_module(x, o_1=64, r_3=96, o_3=128, r_5=16, o_5=32, pool=32)\n",
    "        x = inception_module(x, o_1=128, r_3=128, o_3=192, r_5=32, o_5=96, pool=64)\n",
    "        x = layers.MaxPooling2D(pool_size=(3, 3), strides=2, padding='same')(x)\n",
    "        x = inception_module(x, o_1=192, r_3=96, o_3=208, r_5=16, o_5=48, pool=64)\n",
    "        x = layers.AveragePooling2D(pool_size=(7, 7), strides=1)(x)\n",
    "        x = layers.Conv2D(128, 1, strides=1, padding='same', activation='relu')(x)\n",
    "        x = layers.Dense(1024)(x)\n",
    "        x = layers.Dropout(0.7)(x)\n",
    "        x = layers.Dense(2350)(x)\n",
    "        x = layers.Reshape((2350,), input_shape=(1,1,2350))(x)\n",
    "        output = layers.Activation('softmax')(x)\n",
    "    return Model(input_, output)\n",
    "\n",
    "googlenet = googLeNet(img_shape)"
   ]
  },
  {
   "cell_type": "code",
   "execution_count": 4,
   "metadata": {},
   "outputs": [
    {
     "name": "stdout",
     "output_type": "stream",
     "text": [
      "__________________________________________________________________________________________________\n",
      "Layer (type)                    Output Shape         Param #     Connected to                     \n",
      "==================================================================================================\n",
      "input_1 (InputLayer)            (None, 56, 56, 1)    0                                            \n",
      "__________________________________________________________________________________________________\n",
      "conv2d_1 (Conv2D)               (None, 28, 28, 64)   640         input_1[0][0]                    \n",
      "__________________________________________________________________________________________________\n",
      "conv2d_2 (Conv2D)               (None, 28, 28, 192)  110784      conv2d_1[0][0]                   \n",
      "__________________________________________________________________________________________________\n",
      "batch_normalization_1 (BatchNor (None, 28, 28, 192)  768         conv2d_2[0][0]                   \n",
      "__________________________________________________________________________________________________\n",
      "max_pooling2d_1 (MaxPooling2D)  (None, 14, 14, 192)  0           batch_normalization_1[0][0]      \n",
      "__________________________________________________________________________________________________\n",
      "conv2d_4 (Conv2D)               (None, 14, 14, 96)   18528       max_pooling2d_1[0][0]            \n",
      "__________________________________________________________________________________________________\n",
      "conv2d_6 (Conv2D)               (None, 14, 14, 16)   3088        max_pooling2d_1[0][0]            \n",
      "__________________________________________________________________________________________________\n",
      "max_pooling2d_2 (MaxPooling2D)  (None, 14, 14, 192)  0           max_pooling2d_1[0][0]            \n",
      "__________________________________________________________________________________________________\n",
      "conv2d_3 (Conv2D)               (None, 14, 14, 64)   12352       max_pooling2d_1[0][0]            \n",
      "__________________________________________________________________________________________________\n",
      "conv2d_5 (Conv2D)               (None, 14, 14, 128)  110720      conv2d_4[0][0]                   \n",
      "__________________________________________________________________________________________________\n",
      "conv2d_7 (Conv2D)               (None, 14, 14, 32)   12832       conv2d_6[0][0]                   \n",
      "__________________________________________________________________________________________________\n",
      "conv2d_8 (Conv2D)               (None, 14, 14, 32)   6176        max_pooling2d_2[0][0]            \n",
      "__________________________________________________________________________________________________\n",
      "concatenate_1 (Concatenate)     (None, 14, 14, 256)  0           conv2d_3[0][0]                   \n",
      "                                                                 conv2d_5[0][0]                   \n",
      "                                                                 conv2d_7[0][0]                   \n",
      "                                                                 conv2d_8[0][0]                   \n",
      "__________________________________________________________________________________________________\n",
      "conv2d_10 (Conv2D)              (None, 14, 14, 128)  32896       concatenate_1[0][0]              \n",
      "__________________________________________________________________________________________________\n",
      "conv2d_12 (Conv2D)              (None, 14, 14, 32)   8224        concatenate_1[0][0]              \n",
      "__________________________________________________________________________________________________\n",
      "max_pooling2d_3 (MaxPooling2D)  (None, 14, 14, 256)  0           concatenate_1[0][0]              \n",
      "__________________________________________________________________________________________________\n",
      "conv2d_9 (Conv2D)               (None, 14, 14, 128)  32896       concatenate_1[0][0]              \n",
      "__________________________________________________________________________________________________\n",
      "conv2d_11 (Conv2D)              (None, 14, 14, 192)  221376      conv2d_10[0][0]                  \n",
      "__________________________________________________________________________________________________\n",
      "conv2d_13 (Conv2D)              (None, 14, 14, 96)   76896       conv2d_12[0][0]                  \n",
      "__________________________________________________________________________________________________\n",
      "conv2d_14 (Conv2D)              (None, 14, 14, 64)   16448       max_pooling2d_3[0][0]            \n",
      "__________________________________________________________________________________________________\n",
      "concatenate_2 (Concatenate)     (None, 14, 14, 480)  0           conv2d_9[0][0]                   \n",
      "                                                                 conv2d_11[0][0]                  \n",
      "                                                                 conv2d_13[0][0]                  \n",
      "                                                                 conv2d_14[0][0]                  \n",
      "__________________________________________________________________________________________________\n",
      "max_pooling2d_4 (MaxPooling2D)  (None, 7, 7, 480)    0           concatenate_2[0][0]              \n",
      "__________________________________________________________________________________________________\n",
      "conv2d_16 (Conv2D)              (None, 7, 7, 96)     46176       max_pooling2d_4[0][0]            \n",
      "__________________________________________________________________________________________________\n",
      "conv2d_18 (Conv2D)              (None, 7, 7, 16)     7696        max_pooling2d_4[0][0]            \n",
      "__________________________________________________________________________________________________\n",
      "max_pooling2d_5 (MaxPooling2D)  (None, 7, 7, 480)    0           max_pooling2d_4[0][0]            \n",
      "__________________________________________________________________________________________________\n",
      "conv2d_15 (Conv2D)              (None, 7, 7, 192)    92352       max_pooling2d_4[0][0]            \n",
      "__________________________________________________________________________________________________\n",
      "conv2d_17 (Conv2D)              (None, 7, 7, 208)    179920      conv2d_16[0][0]                  \n",
      "__________________________________________________________________________________________________\n",
      "conv2d_19 (Conv2D)              (None, 7, 7, 48)     19248       conv2d_18[0][0]                  \n",
      "__________________________________________________________________________________________________\n",
      "conv2d_20 (Conv2D)              (None, 7, 7, 64)     30784       max_pooling2d_5[0][0]            \n",
      "__________________________________________________________________________________________________\n",
      "concatenate_3 (Concatenate)     (None, 7, 7, 512)    0           conv2d_15[0][0]                  \n",
      "                                                                 conv2d_17[0][0]                  \n",
      "                                                                 conv2d_19[0][0]                  \n",
      "                                                                 conv2d_20[0][0]                  \n",
      "__________________________________________________________________________________________________\n",
      "average_pooling2d_1 (AveragePoo (None, 1, 1, 512)    0           concatenate_3[0][0]              \n",
      "__________________________________________________________________________________________________\n",
      "conv2d_21 (Conv2D)              (None, 1, 1, 128)    65664       average_pooling2d_1[0][0]        \n",
      "__________________________________________________________________________________________________\n",
      "dense_1 (Dense)                 (None, 1, 1, 1024)   132096      conv2d_21[0][0]                  \n",
      "__________________________________________________________________________________________________\n",
      "dropout_1 (Dropout)             (None, 1, 1, 1024)   0           dense_1[0][0]                    \n",
      "__________________________________________________________________________________________________\n",
      "dense_2 (Dense)                 (None, 1, 1, 2350)   2408750     dropout_1[0][0]                  \n",
      "__________________________________________________________________________________________________\n",
      "reshape_1 (Reshape)             (None, 2350)         0           dense_2[0][0]                    \n",
      "__________________________________________________________________________________________________\n",
      "activation_1 (Activation)       (None, 2350)         0           reshape_1[0][0]                  \n",
      "==================================================================================================\n",
      "Total params: 3,647,310\n",
      "Trainable params: 3,646,926\n",
      "Non-trainable params: 384\n",
      "__________________________________________________________________________________________________\n"
     ]
    }
   ],
   "source": [
    "with Back.tf.device('/cpu:0'):\n",
    "    googlenet.compile(optimizer=SGD(lr=0.01,decay=1e-6, momentum=0.9), \n",
    "    loss='categorical_crossentropy', metrics=[\"accuracy\"])\n",
    "googlenet.summary()"
   ]
  },
  {
   "cell_type": "code",
   "execution_count": 5,
   "metadata": {},
   "outputs": [
    {
     "name": "stdout",
     "output_type": "stream",
     "text": [
      "진행 : 1\n",
      "진행 : 2\n",
      "진행 : 3\n",
      "진행 : 4\n",
      "진행 : 5\n",
      "진행 : 6\n",
      "진행 : 7\n",
      "진행 : 8\n",
      "진행 : 9\n"
     ]
    }
   ],
   "source": [
    "def next_load_data(path, train, index):\n",
    "    #DataSet\n",
    "    a = np.load(path+'data_'+str(index)+'.npy')\n",
    "    a = a.reshape(2187,56,56,1).astype('float32') / 255.0\n",
    "    b = np.load(path+'labels_'+str(index)+'.npy')\n",
    "    x_train = a[0:train,:,:,:]\n",
    "    x_test = a[train:,:,:,:]\n",
    "    y_train = b[0:train,:]\n",
    "    y_test = b[train:,:]\n",
    "    return np.array(x_train), np.array(y_train), np.array(x_test),np.array(y_test)\n",
    "\n",
    "path = 'D:\\PHD08\\phd08-conversion-master\\phd08_npy_results\\phd08_'\n",
    "x_train, y_train, x_test, y_test = next_load_data(path,1458, 1)\n",
    "\n",
    "for i in range(2,11):\n",
    "    x_train0, y_train0, x_test0, y_test0 = next_load_data(path,1458, 2)\n",
    "    x_train = np.vstack((x_train,x_train0))\n",
    "    y_train = np.vstack((y_train,y_train0))\n",
    "    x_test = np.vstack((x_test,x_test0))\n",
    "    y_test = np.vstack((y_test,y_test0))\n",
    "    print('진행 : '+str(i-1))"
   ]
  },
  {
   "cell_type": "code",
   "execution_count": null,
   "metadata": {
    "scrolled": true
   },
   "outputs": [],
   "source": [
    "with Back.tf.device('/cpu:0'):\n",
    "    training = googlenet.fit(x_train, y_train,validation_data=(x_test,y_test),epochs=1, batch_size=56)\n",
    "    now = datetime.now()\n",
    "    temp = ('%s-%s-%s'%(now.year, now.month, now.day))\n",
    "    googlenet.save('save/save_'+temp+'.h5')"
   ]
  },
  {
   "cell_type": "code",
   "execution_count": null,
   "metadata": {},
   "outputs": [
    {
     "name": "stdout",
     "output_type": "stream",
     "text": [
      "6400/7290 [=========================>....] - ETA: 6s"
     ]
    }
   ],
   "source": [
    "with Back.tf.device('/cpu:0'):\n",
    "    googlenet = load_model('save/save_2019-4-23.h5')\n",
    "    test_result = googlenet.evaluate(x_test, y_test, batch_size=50)"
   ]
  },
  {
   "cell_type": "code",
   "execution_count": 7,
   "metadata": {},
   "outputs": [
    {
     "name": "stdout",
     "output_type": "stream",
     "text": [
      "loss: 1.61180964694, acc: 0.900000000065\n"
     ]
    }
   ],
   "source": [
    "print('loss: '+str(test_result[0])+', acc: '+str(test_result[1]))"
   ]
  },
  {
   "cell_type": "code",
   "execution_count": null,
   "metadata": {},
   "outputs": [],
   "source": []
  }
 ],
 "metadata": {
  "kernelspec": {
   "display_name": "Python 3",
   "language": "python",
   "name": "python3"
  },
  "language_info": {
   "codemirror_mode": {
    "name": "ipython",
    "version": 3
   },
   "file_extension": ".py",
   "mimetype": "text/x-python",
   "name": "python",
   "nbconvert_exporter": "python",
   "pygments_lexer": "ipython3",
   "version": "3.6.8"
  }
 },
 "nbformat": 4,
 "nbformat_minor": 2
}
